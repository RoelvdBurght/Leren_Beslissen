{
 "cells": [
  {
   "cell_type": "code",
   "execution_count": 79,
   "metadata": {},
   "outputs": [],
   "source": [
    "import numpy as np\n",
    "import pandas as pd\n",
    "import scipy.stats as sy\n",
    "import matplotlib.pyplot as plt\n",
    "from sklearn import cluster as sc\n"
   ]
  },
  {
   "cell_type": "code",
   "execution_count": 80,
   "metadata": {},
   "outputs": [],
   "source": [
    "data = pd.read_csv(\"../Data/final_data.csv\", delimiter=',')\n"
   ]
  },
  {
   "cell_type": "code",
   "execution_count": 81,
   "metadata": {},
   "outputs": [
    {
     "data": {
      "text/html": [
       "<div>\n",
       "<style scoped>\n",
       "    .dataframe tbody tr th:only-of-type {\n",
       "        vertical-align: middle;\n",
       "    }\n",
       "\n",
       "    .dataframe tbody tr th {\n",
       "        vertical-align: top;\n",
       "    }\n",
       "\n",
       "    .dataframe thead th {\n",
       "        text-align: right;\n",
       "    }\n",
       "</style>\n",
       "<table border=\"1\" class=\"dataframe\">\n",
       "  <thead>\n",
       "    <tr style=\"text-align: right;\">\n",
       "      <th></th>\n",
       "      <th>Q13A</th>\n",
       "      <th>Q13B</th>\n",
       "      <th>Q13C</th>\n",
       "      <th>Q13D</th>\n",
       "      <th>Q13E</th>\n",
       "      <th>Q13F</th>\n",
       "      <th>Q13G</th>\n",
       "      <th>Q16A</th>\n",
       "      <th>Q16B</th>\n",
       "      <th>Q16C</th>\n",
       "      <th>...</th>\n",
       "      <th>Q49_190-199</th>\n",
       "      <th>Q49_&gt;200</th>\n",
       "      <th>Q49_0</th>\n",
       "      <th>Q50_&lt;60</th>\n",
       "      <th>Q50_60-69</th>\n",
       "      <th>Q50_70-79</th>\n",
       "      <th>Q50_80-89</th>\n",
       "      <th>Q50_90-99</th>\n",
       "      <th>Q50_&gt;100</th>\n",
       "      <th>Q50_0</th>\n",
       "    </tr>\n",
       "  </thead>\n",
       "  <tbody>\n",
       "    <tr>\n",
       "      <th>0</th>\n",
       "      <td>False</td>\n",
       "      <td>False</td>\n",
       "      <td>False</td>\n",
       "      <td>False</td>\n",
       "      <td>False</td>\n",
       "      <td>True</td>\n",
       "      <td>False</td>\n",
       "      <td>True</td>\n",
       "      <td>False</td>\n",
       "      <td>False</td>\n",
       "      <td>...</td>\n",
       "      <td>0</td>\n",
       "      <td>0</td>\n",
       "      <td>0</td>\n",
       "      <td>0</td>\n",
       "      <td>0</td>\n",
       "      <td>0</td>\n",
       "      <td>1</td>\n",
       "      <td>0</td>\n",
       "      <td>0</td>\n",
       "      <td>0</td>\n",
       "    </tr>\n",
       "    <tr>\n",
       "      <th>1</th>\n",
       "      <td>False</td>\n",
       "      <td>False</td>\n",
       "      <td>False</td>\n",
       "      <td>False</td>\n",
       "      <td>False</td>\n",
       "      <td>True</td>\n",
       "      <td>False</td>\n",
       "      <td>False</td>\n",
       "      <td>False</td>\n",
       "      <td>False</td>\n",
       "      <td>...</td>\n",
       "      <td>1</td>\n",
       "      <td>0</td>\n",
       "      <td>0</td>\n",
       "      <td>0</td>\n",
       "      <td>0</td>\n",
       "      <td>0</td>\n",
       "      <td>1</td>\n",
       "      <td>0</td>\n",
       "      <td>0</td>\n",
       "      <td>0</td>\n",
       "    </tr>\n",
       "    <tr>\n",
       "      <th>2</th>\n",
       "      <td>True</td>\n",
       "      <td>False</td>\n",
       "      <td>False</td>\n",
       "      <td>False</td>\n",
       "      <td>False</td>\n",
       "      <td>False</td>\n",
       "      <td>False</td>\n",
       "      <td>False</td>\n",
       "      <td>False</td>\n",
       "      <td>False</td>\n",
       "      <td>...</td>\n",
       "      <td>0</td>\n",
       "      <td>0</td>\n",
       "      <td>0</td>\n",
       "      <td>0</td>\n",
       "      <td>0</td>\n",
       "      <td>0</td>\n",
       "      <td>0</td>\n",
       "      <td>1</td>\n",
       "      <td>0</td>\n",
       "      <td>0</td>\n",
       "    </tr>\n",
       "    <tr>\n",
       "      <th>3</th>\n",
       "      <td>False</td>\n",
       "      <td>False</td>\n",
       "      <td>False</td>\n",
       "      <td>False</td>\n",
       "      <td>False</td>\n",
       "      <td>True</td>\n",
       "      <td>False</td>\n",
       "      <td>True</td>\n",
       "      <td>False</td>\n",
       "      <td>False</td>\n",
       "      <td>...</td>\n",
       "      <td>0</td>\n",
       "      <td>0</td>\n",
       "      <td>0</td>\n",
       "      <td>0</td>\n",
       "      <td>0</td>\n",
       "      <td>0</td>\n",
       "      <td>1</td>\n",
       "      <td>0</td>\n",
       "      <td>0</td>\n",
       "      <td>0</td>\n",
       "    </tr>\n",
       "    <tr>\n",
       "      <th>4</th>\n",
       "      <td>False</td>\n",
       "      <td>False</td>\n",
       "      <td>False</td>\n",
       "      <td>False</td>\n",
       "      <td>False</td>\n",
       "      <td>True</td>\n",
       "      <td>False</td>\n",
       "      <td>True</td>\n",
       "      <td>False</td>\n",
       "      <td>False</td>\n",
       "      <td>...</td>\n",
       "      <td>0</td>\n",
       "      <td>0</td>\n",
       "      <td>0</td>\n",
       "      <td>0</td>\n",
       "      <td>1</td>\n",
       "      <td>0</td>\n",
       "      <td>0</td>\n",
       "      <td>0</td>\n",
       "      <td>0</td>\n",
       "      <td>0</td>\n",
       "    </tr>\n",
       "  </tbody>\n",
       "</table>\n",
       "<p>5 rows × 167 columns</p>\n",
       "</div>"
      ],
      "text/plain": [
       "    Q13A   Q13B   Q13C   Q13D   Q13E   Q13F   Q13G   Q16A   Q16B   Q16C  \\\n",
       "0  False  False  False  False  False   True  False   True  False  False   \n",
       "1  False  False  False  False  False   True  False  False  False  False   \n",
       "2   True  False  False  False  False  False  False  False  False  False   \n",
       "3  False  False  False  False  False   True  False   True  False  False   \n",
       "4  False  False  False  False  False   True  False   True  False  False   \n",
       "\n",
       "   ...    Q49_190-199  Q49_>200  Q49_0  Q50_<60  Q50_60-69  Q50_70-79  \\\n",
       "0  ...              0         0      0        0          0          0   \n",
       "1  ...              1         0      0        0          0          0   \n",
       "2  ...              0         0      0        0          0          0   \n",
       "3  ...              0         0      0        0          0          0   \n",
       "4  ...              0         0      0        0          1          0   \n",
       "\n",
       "   Q50_80-89  Q50_90-99  Q50_>100  Q50_0  \n",
       "0          1          0         0      0  \n",
       "1          1          0         0      0  \n",
       "2          0          1         0      0  \n",
       "3          1          0         0      0  \n",
       "4          0          0         0      0  \n",
       "\n",
       "[5 rows x 167 columns]"
      ]
     },
     "execution_count": 81,
     "metadata": {},
     "output_type": "execute_result"
    }
   ],
   "source": [
    "data.head()"
   ]
  },
  {
   "cell_type": "code",
   "execution_count": 82,
   "metadata": {},
   "outputs": [],
   "source": [
    "drop = [i for i in range(57,138)] + [i for i in range(35,47)]\n",
    "data = data.drop(data.columns[drop], axis=1)\n",
    "X = data.values\n",
    "# df = data[data.columns[35:47]]\n",
    "# df"
   ]
  },
  {
   "cell_type": "code",
   "execution_count": 83,
   "metadata": {},
   "outputs": [],
   "source": [
    "kmeans = sc.KMeans(n_clusters=3).fit(X)\n"
   ]
  },
  {
   "cell_type": "code",
   "execution_count": 84,
   "metadata": {},
   "outputs": [],
   "source": [
    "labels = kmeans.labels_\n",
    "data.to_csv('labels')\n",
    "data['labels'] = labels\n"
   ]
  },
  {
   "cell_type": "code",
   "execution_count": 88,
   "metadata": {},
   "outputs": [
    {
     "data": {
      "text/plain": [
       "array([   1,    2,    5,    7,    8,   10,   11,   12,   14,   18,   22,\n",
       "         25,   30,   32,   36,   40,   41,   42,   44,   46,   47,   49,\n",
       "         51,   52,   53,   62,   64,   67,   69,   71,   73,   75,   76,\n",
       "         77,   80,   83,   88,   90,   93,   95,   96,   97,   98,   99,\n",
       "        100,  101,  105,  108,  110,  114,  115,  116,  125,  126,  127,\n",
       "        128,  129,  130,  132,  134,  135,  136,  139,  140,  141,  142,\n",
       "        143,  146,  149,  152,  153,  155,  157,  160,  161,  162,  163,\n",
       "        165,  169,  170,  173,  177,  179,  182,  183,  185,  188,  190,\n",
       "        192,  193,  197,  199,  200,  201,  205,  208,  209,  210,  211,\n",
       "        213,  217,  220,  222,  223,  224,  225,  228,  232,  233,  234,\n",
       "        235,  236,  240,  241,  242,  245,  250,  253,  255,  257,  260,\n",
       "        265,  266,  267,  269,  271,  273,  274,  276,  277,  278,  281,\n",
       "        284,  285,  288,  289,  295,  298,  299,  301,  303,  309,  310,\n",
       "        314,  315,  316,  318,  321,  322,  324,  325,  327,  328,  329,\n",
       "        330,  333,  334,  337,  340,  344,  345,  348,  349,  350,  351,\n",
       "        352,  353,  356,  357,  358,  359,  360,  361,  363,  364,  372,\n",
       "        374,  375,  376,  377,  382,  391,  393,  397,  398,  399,  400,\n",
       "        401,  403,  405,  406,  416,  419,  421,  425,  429,  430,  431,\n",
       "        432,  433,  434,  435,  436,  444,  445,  448,  449,  451,  453,\n",
       "        455,  456,  458,  459,  461,  465,  468,  473,  474,  475,  477,\n",
       "        485,  487,  488,  489,  490,  493,  495,  498,  501,  502,  503,\n",
       "        507,  509,  510,  511,  512,  513,  514,  516,  517,  518,  520,\n",
       "        522,  526,  529,  530,  531,  532,  536,  538,  541,  542,  544,\n",
       "        546,  547,  549,  551,  555,  557,  558,  563,  564,  569,  570,\n",
       "        574,  576,  578,  579,  581,  582,  584,  585,  595,  596,  599,\n",
       "        602,  604,  605,  606,  607,  608,  609,  610,  614,  615,  616,\n",
       "        617,  618,  623,  625,  627,  628,  631,  636,  637,  638,  639,\n",
       "        644,  646,  648,  649,  650,  651,  654,  657,  658,  660,  661,\n",
       "        664,  666,  670,  671,  676,  678,  679,  680,  682,  683,  685,\n",
       "        686,  687,  689,  691,  694,  695,  696,  698,  700,  703,  704,\n",
       "        706,  707,  710,  711,  714,  717,  720,  721,  725,  727,  731,\n",
       "        733,  734,  735,  737,  743,  746,  749,  753,  754,  757,  759,\n",
       "        760,  761,  763,  766,  772,  774,  775,  776,  777,  778,  780,\n",
       "        781,  783,  786,  788,  789,  791,  792,  794,  795,  796,  798,\n",
       "        800,  802,  803,  810,  812,  813,  814,  815,  817,  819,  820,\n",
       "        821,  822,  823,  827,  828,  830,  831,  840,  847,  848,  850,\n",
       "        854,  856,  857,  858,  860,  861,  862,  864,  869,  872,  875,\n",
       "        881,  882,  883,  884,  886,  888,  889,  890,  895,  897,  905,\n",
       "        907,  909,  910,  911,  913,  914,  916,  917,  919,  920,  923,\n",
       "        924,  925,  926,  929,  932,  934,  936,  940,  942,  943,  944,\n",
       "        947,  950,  955,  956,  959,  960,  961,  962,  963,  967,  969,\n",
       "        972,  976,  982,  984,  986,  987,  993,  994,  999, 1000, 1001,\n",
       "       1007, 1009, 1011, 1013, 1019, 1023, 1027, 1028, 1029, 1030, 1031,\n",
       "       1033, 1035, 1036, 1041, 1042, 1043, 1044, 1046, 1048, 1053, 1063,\n",
       "       1067, 1070, 1071, 1078, 1082, 1086, 1088, 1089, 1091, 1093, 1095,\n",
       "       1096, 1099, 1102, 1105, 1106, 1107, 1108, 1112, 1113, 1116, 1117,\n",
       "       1120, 1121, 1124, 1125, 1126, 1131, 1133, 1136, 1137, 1138, 1139,\n",
       "       1140, 1146, 1147, 1148, 1151, 1152, 1153, 1162, 1163, 1167, 1169,\n",
       "       1170, 1174, 1175, 1177, 1178, 1179, 1180, 1185, 1188, 1190, 1191,\n",
       "       1196, 1197, 1198, 1199, 1201, 1203, 1204, 1206, 1208, 1209, 1214,\n",
       "       1219, 1220, 1222, 1224, 1225, 1227, 1228, 1229, 1231, 1232, 1234,\n",
       "       1239, 1240, 1242, 1245, 1246, 1247, 1249, 1250, 1252, 1253, 1255,\n",
       "       1256, 1257, 1259, 1260, 1264, 1265, 1266, 1267, 1268, 1269, 1270,\n",
       "       1272, 1276, 1277, 1282, 1283, 1285, 1287, 1288, 1289, 1291, 1292,\n",
       "       1295, 1297, 1298, 1299, 1300, 1301, 1303, 1305, 1306, 1308, 1312,\n",
       "       1314, 1317, 1319, 1322, 1323, 1324, 1327, 1328, 1329, 1330, 1332,\n",
       "       1337, 1340, 1341, 1343, 1348, 1349, 1354, 1356, 1357, 1360, 1362,\n",
       "       1365, 1370, 1377, 1386, 1387, 1393, 1394, 1400, 1402, 1404, 1405,\n",
       "       1406, 1408, 1410, 1413, 1416, 1419, 1420, 1422, 1424, 1427, 1428,\n",
       "       1429, 1431, 1433, 1434, 1435, 1437, 1440, 1441, 1442, 1449, 1450,\n",
       "       1454, 1457, 1466, 1467, 1470, 1474, 1478, 1480, 1481, 1483, 1487,\n",
       "       1491, 1493, 1497, 1498, 1507, 1514, 1517, 1518, 1521, 1522, 1528,\n",
       "       1530, 1533, 1535, 1537, 1538, 1540, 1542, 1545, 1548, 1553, 1556,\n",
       "       1558, 1559, 1560, 1568, 1570, 1571, 1574, 1575, 1577, 1579, 1581,\n",
       "       1582, 1583, 1584, 1593, 1594, 1596, 1597, 1598, 1601, 1603, 1604,\n",
       "       1606, 1611, 1614, 1616, 1618, 1619, 1620, 1621, 1624, 1628, 1630,\n",
       "       1632, 1637, 1639, 1640, 1644, 1645, 1647, 1649, 1651, 1652, 1656,\n",
       "       1659, 1660, 1662, 1663, 1665, 1666, 1667, 1668, 1672, 1674, 1679,\n",
       "       1680, 1682, 1683, 1684, 1691, 1693, 1694, 1696, 1697, 1698, 1699,\n",
       "       1700, 1701, 1702, 1703, 1706, 1708, 1711, 1714, 1715, 1717, 1719,\n",
       "       1720, 1722, 1725, 1730, 1731, 1732, 1733, 1739, 1741, 1745, 1749,\n",
       "       1750, 1751, 1752, 1754, 1756, 1758, 1761, 1763, 1765, 1766, 1767,\n",
       "       1768, 1770, 1771, 1773, 1778, 1779, 1780, 1781, 1782, 1783, 1785,\n",
       "       1790, 1791, 1795, 1797, 1800, 1801, 1804, 1807, 1808, 1809, 1811,\n",
       "       1812, 1813, 1816, 1818, 1819, 1820, 1822, 1823, 1825, 1827, 1829,\n",
       "       1831, 1833, 1838, 1841, 1843, 1844, 1845, 1846, 1854, 1856, 1858,\n",
       "       1859, 1865, 1868, 1874, 1876, 1881, 1882, 1887, 1889, 1891, 1893,\n",
       "       1897, 1899, 1900, 1902, 1906, 1911, 1912, 1913, 1916, 1921, 1922,\n",
       "       1924, 1928, 1931, 1934, 1939, 1942, 1945, 1947, 1948, 1950, 1954,\n",
       "       1956, 1957, 1960, 1961, 1970, 1971, 1972, 1973, 1974, 1976, 1982,\n",
       "       1983, 1985, 1988, 1990, 1997, 1998, 2002, 2006, 2009, 2011, 2013,\n",
       "       2015, 2016, 2021, 2022, 2023, 2028, 2035, 2038, 2040, 2042, 2044,\n",
       "       2046, 2047, 2048, 2054, 2056, 2057, 2058, 2066, 2068, 2072, 2074,\n",
       "       2087, 2091, 2093, 2095, 2098, 2099, 2101, 2106, 2109, 2111, 2115,\n",
       "       2117, 2118, 2120, 2121, 2122, 2126, 2130, 2132, 2135, 2136, 2137,\n",
       "       2138, 2141, 2143, 2144], dtype=int64)"
      ]
     },
     "execution_count": 88,
     "metadata": {},
     "output_type": "execute_result"
    },
    {
     "data": {
      "image/png": "[encoded data removed]",
      "text/plain": [
       "<matplotlib.figure.Figure at 0x23496090978>"
      ]
     },
     "metadata": {},
     "output_type": "display_data"
    }
   ],
   "source": [
    "label0 = data.loc[data['labels'] == 0].astype(float)\n",
    "\n",
    "sums0 = label0.sum()\n",
    "plt.bar(label0.columns, sums0)\n",
    "label0.index.values"
   ]
  },
  {
   "cell_type": "code",
   "execution_count": 86,
   "metadata": {},
   "outputs": [
    {
     "data": {
      "text/plain": [
       "<Container object of 75 artists>"
      ]
     },
     "execution_count": 86,
     "metadata": {},
     "output_type": "execute_result"
    },
    {
     "data": {
      "image/png": "[encoded data removed]",
      "text/plain": [
       "<matplotlib.figure.Figure at 0x23495f4cc18>"
      ]
     },
     "metadata": {},
     "output_type": "display_data"
    }
   ],
   "source": [
    "label1 = data.loc[data['labels'] == 1].astype(float)\n",
    "\n",
    "sums1 = label1.sum()\n",
    "plt.bar(label1.columns, sums1)"
   ]
  },
  {
   "cell_type": "code",
   "execution_count": 87,
   "metadata": {},
   "outputs": [
    {
     "data": {
      "image/png": "[encoded data removed]",
      "text/plain": [
       "<matplotlib.figure.Figure at 0x23496c762b0>"
      ]
     },
     "metadata": {},
     "output_type": "display_data"
    }
   ],
   "source": [
    "label2 = data.loc[data['labels'] == 2].astype(float)\n",
    "\n",
    "sums2 = label2.sum()\n",
    "plt.bar(label2.columns, sums2)\n",
    "\n",
    "plt.show()"
   ]
  },
  {
   "cell_type": "code",
   "execution_count": null,
   "metadata": {},
   "outputs": [],
   "source": []
  },
  {
   "cell_type": "code",
   "execution_count": null,
   "metadata": {},
   "outputs": [],
   "source": []
  }
 ],
 "metadata": {
  "kernelspec": {
   "display_name": "Python 3",
   "language": "python",
   "name": "python3"
  },
  "language_info": {
   "codemirror_mode": {
    "name": "ipython",
    "version": 3
   },
   "file_extension": ".py",
   "mimetype": "text/x-python",
   "name": "python",
   "nbconvert_exporter": "python",
   "pygments_lexer": "ipython3",
   "version": "3.6.4"
  }
 },
 "nbformat": 4,
 "nbformat_minor": 2
}
