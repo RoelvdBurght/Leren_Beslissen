{
 "cells": [
  {
   "cell_type": "code",
   "execution_count": 240,
   "metadata": {},
   "outputs": [
    {
     "data": {
      "text/plain": [
       "['Q10_0-1 maand',\n",
       " 'Q10_0-1 maand',\n",
       " 'Q10_1-3 maanden',\n",
       " 'Q10_3-6 maanden',\n",
       " 'Q11_Ik wil niet vaker en/of meer kilometers hardlopen dan ik nu doe',\n",
       " 'Q11_Ik wil niet vaker en/of meer kilometers hardlopen dan ik nu doe',\n",
       " 'Q12C_True',\n",
       " 'Q12D_True',\n",
       " 'Q12F_True',\n",
       " 'Q13C',\n",
       " 'Q13D',\n",
       " 'Q13E',\n",
       " 'Q13G',\n",
       " 'Q14_Anders, namelijk ...',\n",
       " 'Q14_Anders, namelijk ...',\n",
       " 'Q14_Ik begin meestal met hardlopen vanuit of dichtbij het huis van mijn trainingspartner.',\n",
       " 'Q14_Ik begin meestal met hardlopen vanuit of dichtbij mijn werk.',\n",
       " 'Q15_Ik reis vaak meer dan 5 km van waar ik woon',\n",
       " 'Q15_Ik ren altijd binnen 1 km van waar ik woon',\n",
       " 'Q16B',\n",
       " 'Q16B',\n",
       " 'Q16B',\n",
       " 'Q16B',\n",
       " 'Q16D',\n",
       " 'Q16E',\n",
       " 'Q16E',\n",
       " 'Q16G',\n",
       " 'Q43_Nee, ik maak geen gebruik van een sport-app, maar ik heb in het verleden wel een sport-app gebruikt',\n",
       " 'Q43_Nee, ik maak geen gebruik van een sport-app, maar ik heb in het verleden wel een sport-app gebruikt',\n",
       " 'Q43_Nee, ik maak geen gebruik van een sport-app, maar ik heb in het verleden wel een sport-app gebruikt',\n",
       " 'Q43_Nee, ik weet van het bestaan van sport-apps, maar ik gebruik er geen',\n",
       " 'Q44B_True',\n",
       " 'Q44C_True',\n",
       " 'Q45A_True',\n",
       " 'Q45B_True',\n",
       " 'Q45B_True',\n",
       " 'Q45B_True',\n",
       " 'Q45B_True',\n",
       " 'Q45C_True',\n",
       " 'Q45D_True',\n",
       " 'Q45F_True',\n",
       " 'Q45G_True',\n",
       " 'Q45H_True',\n",
       " 'Q45N_True',\n",
       " 'Q45O_True',\n",
       " 'Q45O_True',\n",
       " 'Q45O_True',\n",
       " 'Q45S_True',\n",
       " 'Q45S_True',\n",
       " 'Q45U_True',\n",
       " 'Q45U_True',\n",
       " 'Q45V_False',\n",
       " 'Q45W_True',\n",
       " 'Q45X_True',\n",
       " 'Q45X_True',\n",
       " 'Q46_MY ASICS',\n",
       " 'Q46_MapMyRun',\n",
       " 'Q46_MyFitnessPal',\n",
       " 'Q46_MyFitnessPal',\n",
       " 'Q46_Polar Beat',\n",
       " 'Q46_Polar Beat',\n",
       " 'Q46_Polar Beat',\n",
       " 'Q46_Polar Flow',\n",
       " 'Q46_Prorun',\n",
       " 'Q46_Prorun',\n",
       " 'Q46_Runtastic Hardlopen en Fitness',\n",
       " 'Q46_Suunto Movescount',\n",
       " 'Q46_Suunto Movescount',\n",
       " 'Q46_TrainingPeaks',\n",
       " 'Q47_Vrouw',\n",
       " 'Q48_30-39',\n",
       " 'Q48_40-49',\n",
       " 'Q48_40-49',\n",
       " 'Q48_50-59',\n",
       " 'Q48_<20',\n",
       " 'Q49_190-199',\n",
       " 'Q49_>200',\n",
       " 'Q50_80-89',\n",
       " 'Q51_Anders, namelijk ...',\n",
       " 'Q51_Anders, namelijk ...',\n",
       " 'Q51_Anders, namelijk ...',\n",
       " 'Q51_Basisonderwijs',\n",
       " 'Q51_Basisonderwijs',\n",
       " 'Q51_HAVO of VWO',\n",
       " 'Q51_Hoger beroepsonderwijs (HBO), universiteit (WO)',\n",
       " 'Q51_Middelbaar beroepsonderwijs (MBO)',\n",
       " 'Q8_1-5 weken getraind',\n",
       " 'Q8_12 weken of meer getraind',\n",
       " 'Q8_6-11 weken getraind',\n",
       " 'Q9_1 tot 3 keer per maand',\n",
       " 'Q9_3 keer per week',\n",
       " 'Q9_Meer dan 5 keer per week']"
      ]
     },
     "execution_count": 240,
     "metadata": {},
     "output_type": "execute_result"
    }
   ],
   "source": [
    "import numpy as np\n",
    "import pandas as pd\n",
    "import scipy.stats as sy\n",
    "import matplotlib.pyplot as plt\n",
    "from sklearn import cluster as sc\n",
    "from sklearn import feature_selection as sf\n",
    "from sklearn.decomposition import PCA\n",
    "from sklearn import preprocessing\n",
    "\n",
    "scaler = StandardScaler()\n",
    "data = pd.read_csv(\"../Data/final_data.csv\", delimiter=',')\n",
    "# data.head(5)\n",
    "data_scaled = pd.DataFrame(preprocessing.scale(data),columns = data.columns) \n",
    "\n",
    "# PCA\n",
    "pca = PCA(.95)\n",
    "pca.fit_transform(data_scaled)\n",
    "\n",
    "# Dump components relations with features:\n",
    "df = pd.DataFrame(pca.components_,columns=data_scaled.columns)\n",
    "\n",
    "pca_qs = []\n",
    "\n",
    "for index, row in df.iterrows():\n",
    "    pca_qs.append(row.idxmax())\n",
    "\n",
    "pca_qs.sort()\n",
    "pca_qs\n"
   ]
  },
  {
   "cell_type": "code",
   "execution_count": 241,
   "metadata": {},
   "outputs": [],
   "source": [
    "X = data.values\n",
    "X = X.astype(float)\n",
    "X_train = X\n",
    "X_val = X[401:]\n",
    "\n",
    "scaler.fit(X_train)\n",
    "X_train = scaler.transform(X_train)\n",
    "scaler.fit(X_val)\n",
    "X_val = scaler.transform(X_val)\n",
    "\n",
    "pca = PCA(.95)\n",
    "pca.fit(X_train)\n",
    "var = pca.explained_variance_ratio_\n",
    "var1 = np.cumsum(np.round(pca.explained_variance_ratio_, decimals=4)*100)\n",
    "# plt.plot(var1)\n",
    "# var1\n"
   ]
  },
  {
   "cell_type": "code",
   "execution_count": 242,
   "metadata": {},
   "outputs": [],
   "source": [
    "X_train = pca.transform(X_train)\n",
    "X_val = pca.transform(X_val)\n"
   ]
  },
  {
   "cell_type": "code",
   "execution_count": 243,
   "metadata": {},
   "outputs": [
    {
     "name": "stdout",
     "output_type": "stream",
     "text": [
      "(2145, 92)\n",
      "(2145, 167)\n"
     ]
    }
   ],
   "source": [
    "print(np.shape(X_train))\n",
    "pca_kmeans = sc.KMeans(n_clusters=3).fit(X_train)\n",
    "kmeans = sc.KMeans(n_clusters=3).fit(X)\n",
    "\n",
    "print(np.shape(X))"
   ]
  },
  {
   "cell_type": "code",
   "execution_count": 244,
   "metadata": {},
   "outputs": [
    {
     "name": "stdout",
     "output_type": "stream",
     "text": [
      "pca_labels\n",
      " [1 2 2 ... 2 2 0]\n",
      "non pca labels\n",
      " [0 2 2 ... 2 2 1]\n"
     ]
    }
   ],
   "source": [
    "pca_labels = pca_kmeans.labels_\n",
    "labels = kmeans.labels_\n",
    "print(\"pca_labels\\n\", pca_labels)\n",
    "print(\"non pca labels\\n\", labels)\n"
   ]
  },
  {
   "cell_type": "code",
   "execution_count": null,
   "metadata": {},
   "outputs": [],
   "source": []
  },
  {
   "cell_type": "code",
   "execution_count": 245,
   "metadata": {},
   "outputs": [
    {
     "name": "stdout",
     "output_type": "stream",
     "text": [
      "[422, 627, 1096] [422, 627, 1096]\n"
     ]
    }
   ],
   "source": [
    "l = [0,0,0]\n",
    "pca_l = [0,0,0]\n",
    "for i in labels:\n",
    "    l[i] += 1\n",
    "for i in pca_labels:\n",
    "    pca_l[i] += 1\n",
    "l.sort()\n",
    "pca_l.sort()\n",
    "print(l, pca_l)"
   ]
  },
  {
   "cell_type": "code",
   "execution_count": 246,
   "metadata": {},
   "outputs": [],
   "source": [
    "# pd.DataFrame(pca.components_,columns=data_scaled.columns)"
   ]
  },
  {
   "cell_type": "code",
   "execution_count": 309,
   "metadata": {},
   "outputs": [
    {
     "data": {
      "text/plain": [
       "array([   0,    3,    4,    8,   14,   15,   21,   23,   28,   29,   35,\n",
       "         38,   39,   42,   45,   46,   47,   51,   52,   56,   58,   63,\n",
       "         64,   79,   81,   87,   88,   91,   94,   95,  101,  102,  111,\n",
       "        112,  114,  116,  117,  119,  125,  127,  131,  132,  143,  145,\n",
       "        148,  149,  150,  157,  159,  162,  172,  173,  175,  178,  182,\n",
       "        183,  188,  191,  192,  193,  197,  198,  199,  201,  205,  206,\n",
       "        207,  212,  219,  221,  229,  237,  241,  244,  246,  247,  248,\n",
       "        250,  256,  260,  262,  267,  270,  272,  274,  275,  280,  284,\n",
       "        285,  287,  290,  293,  294,  295,  305,  309,  311,  314,  317,\n",
       "        318,  319,  321,  327,  331,  336,  343,  345,  349,  351,  354,\n",
       "        359,  365,  373,  375,  377,  385,  387,  389,  401,  405,  408,\n",
       "        410,  411,  414,  415,  416,  417,  420,  422,  424,  426,  431,\n",
       "        434,  435,  437,  442,  447,  448,  454,  458,  459,  463,  465,\n",
       "        467,  470,  471,  473,  474,  475,  477,  479,  483,  484,  492,\n",
       "        495,  496,  501,  503,  505,  509,  514,  519,  522,  523,  527,\n",
       "        536,  540,  541,  544,  545,  546,  553,  561,  564,  568,  573,\n",
       "        583,  590,  594,  595,  597,  616,  617,  618,  619,  623,  627,\n",
       "        630,  641,  646,  649,  657,  658,  659,  660,  662,  669,  671,\n",
       "        675,  676,  677,  690,  692,  695,  697,  706,  714,  718,  722,\n",
       "        723,  728,  731,  734,  735,  737,  738,  741,  745,  746,  747,\n",
       "        748,  749,  760,  763,  764,  767,  774,  776,  780,  782,  786,\n",
       "        787,  795,  798,  799,  800,  806,  815,  819,  822,  823,  826,\n",
       "        829,  833,  835,  839,  854,  859,  860,  861,  862,  872,  873,\n",
       "        875,  878,  887,  892,  894,  897,  899,  901,  902,  906,  907,\n",
       "        910,  911,  929,  930,  931,  932,  939,  943,  944,  946,  948,\n",
       "        950,  951,  952,  955,  956,  959,  963,  971,  972,  977,  981,\n",
       "        984,  986,  987,  990,  991,  994,  997, 1000, 1003, 1009, 1012,\n",
       "       1013, 1016, 1017, 1022, 1029, 1030, 1032, 1033, 1036, 1039, 1040,\n",
       "       1043, 1049, 1050, 1055, 1057, 1059, 1068, 1070, 1074, 1077, 1078,\n",
       "       1082, 1088, 1094, 1104, 1108, 1110, 1114, 1123, 1126, 1127, 1128,\n",
       "       1129, 1131, 1132, 1136, 1137, 1141, 1145, 1148, 1152, 1156, 1161,\n",
       "       1163, 1167, 1174, 1175, 1176, 1178, 1182, 1190, 1193, 1194, 1195,\n",
       "       1196, 1200, 1203, 1210, 1211, 1213, 1215, 1220, 1228, 1231, 1242,\n",
       "       1245, 1256, 1258, 1259, 1260, 1262, 1264, 1266, 1267, 1270, 1271,\n",
       "       1273, 1279, 1280, 1282, 1284, 1286, 1291, 1297, 1298, 1300, 1301,\n",
       "       1313, 1315, 1320, 1322, 1325, 1334, 1336, 1338, 1343, 1346, 1348,\n",
       "       1351, 1355, 1356, 1359, 1360, 1362, 1363, 1369, 1370, 1371, 1374,\n",
       "       1381, 1385, 1389, 1391, 1395, 1397, 1401, 1405, 1406, 1407, 1411,\n",
       "       1416, 1418, 1420, 1421, 1424, 1429, 1430, 1436, 1441, 1442, 1444,\n",
       "       1445, 1446, 1448, 1449, 1453, 1454, 1456, 1461, 1464, 1465, 1466,\n",
       "       1470, 1472, 1479, 1482, 1484, 1486, 1489, 1490, 1496, 1497, 1498,\n",
       "       1500, 1501, 1502, 1509, 1511, 1519, 1522, 1523, 1528, 1530, 1531,\n",
       "       1535, 1539, 1540, 1543, 1544, 1553, 1556, 1562, 1563, 1564, 1566,\n",
       "       1567, 1572, 1577, 1578, 1583, 1588, 1590, 1594, 1595, 1598, 1604,\n",
       "       1609, 1610, 1611, 1615, 1620, 1622, 1625, 1634, 1637, 1638, 1642,\n",
       "       1645, 1653, 1655, 1659, 1666, 1669, 1671, 1674, 1675, 1676, 1677,\n",
       "       1678, 1686, 1699, 1702, 1707, 1711, 1715, 1724, 1725, 1726, 1728,\n",
       "       1729, 1731, 1735, 1738, 1742, 1745, 1746, 1751, 1758, 1764, 1765,\n",
       "       1773, 1774, 1778, 1782, 1784, 1791, 1792, 1795, 1800, 1802, 1803,\n",
       "       1805, 1806, 1810, 1814, 1816, 1817, 1825, 1829, 1830, 1832, 1840,\n",
       "       1848, 1851, 1855, 1856, 1859, 1868, 1875, 1876, 1879, 1881, 1887,\n",
       "       1888, 1890, 1907, 1910, 1913, 1915, 1916, 1917, 1919, 1920, 1921,\n",
       "       1923, 1925, 1934, 1937, 1938, 1941, 1944, 1946, 1947, 1955, 1957,\n",
       "       1959, 1966, 1972, 1973, 1974, 1975, 1976, 1982, 1984, 1995, 2017,\n",
       "       2019, 2021, 2027, 2032, 2033, 2044, 2046, 2051, 2058, 2062, 2064,\n",
       "       2066, 2067, 2068, 2075, 2084, 2085, 2089, 2094, 2095, 2103, 2105,\n",
       "       2112, 2113, 2114, 2115, 2118, 2120, 2121, 2127, 2129, 2130, 2137],\n",
       "      dtype=int64)"
      ]
     },
     "execution_count": 309,
     "metadata": {},
     "output_type": "execute_result"
    },
    {
     "data": {
      "image/png": "[encoded data removed]",
      "text/plain": [
       "<matplotlib.figure.Figure at 0x22358ec5080>"
      ]
     },
     "metadata": {},
     "output_type": "display_data"
    }
   ],
   "source": [
    "data.to_csv('labels_allQ.csv')\n",
    "data['labels'] = labels\n",
    "label0 = data.loc[data['labels'] == 0].astype(float)\n",
    "\n",
    "sums0 = label0.sum()\n",
    "plt.bar(label0.columns, sums0)\n",
    "\n",
    "# plt.show()\n",
    "# print(data.columns)\n",
    "# print(sums0[:57])\n",
    "label0.index.values"
   ]
  },
  {
   "cell_type": "code",
   "execution_count": 303,
   "metadata": {},
   "outputs": [
    {
     "data": {
      "text/plain": [
       "7824.0"
      ]
     },
     "execution_count": 303,
     "metadata": {},
     "output_type": "execute_result"
    },
    {
     "data": {
      "image/png": "[encoded data removed]",
      "text/plain": [
       "<matplotlib.figure.Figure at 0x2235795cb38>"
      ]
     },
     "metadata": {},
     "output_type": "display_data"
    }
   ],
   "source": [
    "data['labels'] = labels\n",
    "label1 = data.loc[data['labels'] == 1].astype(float)\n",
    "\n",
    "sums1 = label1.sum()\n",
    "plt.bar(label1.columns, sums1)\n",
    "# for index in range(len(sums1)):\n",
    "#     if sums1[index] == 0:\n",
    "#         print(index)\n",
    "# print(label1.columns)\n",
    "# plt.show()\n",
    "# print(sums1[:57])\n",
    "sum(sums1)\n",
    "# print(label1.columns[57:138])"
   ]
  },
  {
   "cell_type": "code",
   "execution_count": 304,
   "metadata": {},
   "outputs": [
    {
     "data": {
      "image/png": "[encoded data removed]",
      "text/plain": [
       "<matplotlib.figure.Figure at 0x2235789a400>"
      ]
     },
     "metadata": {},
     "output_type": "display_data"
    },
    {
     "data": {
      "text/plain": [
       "15628.0"
      ]
     },
     "execution_count": 304,
     "metadata": {},
     "output_type": "execute_result"
    }
   ],
   "source": [
    "data['labels'] = labels\n",
    "label2 = data.loc[data['labels'] == 2].astype(float)\n",
    "\n",
    "sums2 = label2.sum()\n",
    "plt.bar(label2.columns, sums2)\n",
    "\n",
    "plt.show()\n",
    "sum(sums2[:57])\n"
   ]
  },
  {
   "cell_type": "code",
   "execution_count": 291,
   "metadata": {},
   "outputs": [
    {
     "name": "stdout",
     "output_type": "stream",
     "text": [
      "Q47_Man                                                 524.0\n",
      "Q47_Vrouw                                               549.0\n",
      "Q51_Anders, namelijk ...                                 15.0\n",
      "Q51_Basisonderwijs                                        2.0\n",
      "Q51_HAVO of VWO                                          48.0\n",
      "Q51_Hoger beroepsonderwijs (HBO), universiteit (WO)     862.0\n",
      "Q51_Lager beroepsonderwijs (LBO, MAVO, VMBO)             20.0\n",
      "Q51_Middelbaar beroepsonderwijs (MBO)                   149.0\n",
      "Q48_<20                                                  27.0\n",
      "Q48_20-29                                               263.0\n",
      "Q48_30-39                                               304.0\n",
      "Q48_40-49                                               309.0\n",
      "Q48_50-59                                               150.0\n",
      "Q48_>60                                                  35.0\n",
      "Q48_0                                                     0.0\n",
      "Q49_<160                                                 17.0\n",
      "Q49_160-169                                             220.0\n",
      "Q49_170-179                                             428.0\n",
      "Q49_180-189                                             332.0\n",
      "Q49_190-199                                              81.0\n",
      "Q49_>200                                                  8.0\n",
      "Q49_0                                                     0.0\n",
      "Q50_<60                                                 129.0\n",
      "Q50_60-69                                               284.0\n",
      "Q50_70-79                                               299.0\n",
      "Q50_80-89                                               234.0\n",
      "Q50_90-99                                                99.0\n",
      "Q50_>100                                                 37.0\n",
      "Q50_0                                                     0.0\n",
      "labels                                                 2192.0\n",
      "dtype: float64\n"
     ]
    }
   ],
   "source": [
    "print(sums2[138:])\n"
   ]
  }
 ],
 "metadata": {
  "kernelspec": {
   "display_name": "Python 3",
   "language": "python",
   "name": "python3"
  },
  "language_info": {
   "codemirror_mode": {
    "name": "ipython",
    "version": 3
   },
   "file_extension": ".py",
   "mimetype": "text/x-python",
   "name": "python",
   "nbconvert_exporter": "python",
   "pygments_lexer": "ipython3",
   "version": "3.6.4"
  }
 },
 "nbformat": 4,
 "nbformat_minor": 2
}
