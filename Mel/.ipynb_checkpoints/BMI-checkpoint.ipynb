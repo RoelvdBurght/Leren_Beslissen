{
 "cells": [
  {
   "cell_type": "code",
   "execution_count": 75,
   "metadata": {},
   "outputs": [],
   "source": [
    "import csv\n",
    "import numpy as np\n",
    "import pandas as pd\n",
    "\n",
    "final_data = pd.read_csv(\"../Data/final_data.csv\",\",\")\n",
    "clean_data = pd.read_csv(\"../Data/clean_data.csv\", \",\")\n",
    "\n",
    "# for index, row in clean_data.iterrows():\n",
    "#     print(index, row['Q49'], row['Q50'])\n",
    "#     if row['Q49'] == 0 or row['Q50'] == 0:\n",
    "#         print('hi')\n",
    "#         continue\n",
    "#     print((row['Q50'] / ((row['Q49']/100)**2)))\n",
    "\n",
    "bmi_list = []\n",
    "for index, row in clean_data.iterrows():\n",
    "    if row['Q49'] == 0 or row['Q50'] == 0:\n",
    "        bmi_list.append([int(0)])\n",
    "        continue\n",
    "    bmi = (row['Q50'] / ((row['Q49']/100)**2))\n",
    "    bmi_list.append([bmi])\n",
    "\n",
    "\n",
    "\n",
    "for b in range(len(bmi_list)):\n",
    "#     print(bmi_list[b][0])\n",
    "    if bmi_list[b][0] == 0:\n",
    "        bmi_list[b].append('Data ontbreekt')\n",
    "    elif bmi_list[b][0] <= 19:\n",
    "        bmi_list[b].append('Ondergewicht')\n",
    "    elif (bmi_list[b][0] > 19 and bmi_list[b][0] <= 25):\n",
    "        bmi_list[b].append('Gezond gewicht')\n",
    "    elif (bmi_list[b][0] > 25 and bmi_list[b][0] <= 30):\n",
    "        bmi_list[b].append('Overgewicht')\n",
    "    elif bmi_list[b][0] > 30:\n",
    "        bmi_list[b].append('Obesitas')\n",
    "\n",
    "\n",
    "bmi_list_np = np.array(bmi_list)\n",
    "matrix = np.matrix(bmi_list)\n",
    "a = np.asarray(bmi_list)\n",
    "\n",
    "# < 19 Ondergewicht\n",
    "# 19-25 Gezond gewicht\n",
    "# 25-30 Overgewicht\n",
    "# 30 > Obesitas\n",
    "\n",
    "# bami = []\n",
    "\n",
    "# for i in range(len(bmi_list)):\n",
    "#     bami.append(bmi_list[i][0])\n",
    "#     bami.append(bmi_list[i][1])\n",
    " \n",
    "# print(bami)\n",
    "np.savetxt(\"bmi.csv\", a, fmt='%s', delimiter=\",\")"
   ]
  },
  {
   "cell_type": "code",
   "execution_count": null,
   "metadata": {},
   "outputs": [],
   "source": []
  }
 ],
 "metadata": {
  "kernelspec": {
   "display_name": "Python 3",
   "language": "python",
   "name": "python3"
  },
  "language_info": {
   "codemirror_mode": {
    "name": "ipython",
    "version": 3
   },
   "file_extension": ".py",
   "mimetype": "text/x-python",
   "name": "python",
   "nbconvert_exporter": "python",
   "pygments_lexer": "ipython3",
   "version": "3.6.4"
  }
 },
 "nbformat": 4,
 "nbformat_minor": 2
}
