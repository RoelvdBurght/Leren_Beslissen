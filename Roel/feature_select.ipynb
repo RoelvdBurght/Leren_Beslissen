{
 "cells": [
  {
   "cell_type": "code",
   "execution_count": 10,
   "metadata": {},
   "outputs": [],
   "source": [
    "import numpy as np\n",
    "import pandas as pd\n",
    "import scipy.stats as sy\n",
    "# from sklearn import cluster, feature_selection as sk\n",
    "import sklearn.cluster as sk\n"
   ]
  },
  {
   "cell_type": "code",
   "execution_count": 20,
   "metadata": {},
   "outputs": [],
   "source": [
    "data = pd.read_csv(\"one_hot_data.csv\", delimiter=',')\n",
    "# data = data.drop(['Q47_Man', 'Q47_Vrouw', 'Q48', 'Q49', 'Q50', 'Q52_Ja, mijn email adres is ...', 'Q52_Nee'], axis=1)\n",
    "# data = data.drop(['Q52_Ja, mijn email adres is ...', 'Q52_Nee'], axis=1)\n",
    "\n",
    "\n",
    "X = data.values\n",
    "X = X[:,2:]\n",
    "# X = X[:100]\n",
    "feature0 = X[:,0].astype(int)\n",
    "\n",
    "\n",
    "\n",
    "# kmeans = cl.KMeans(n_clusters=4).fit(X)\n",
    "# labels = kmeans.labels_\n",
    "# print(labels)\n",
    "# indices = [i for i, x in enumerate(labels) if x == 0]\n",
    "# pd.options.display.max_columns = None\n",
    "# print(data.iloc[indices])"
   ]
  },
  {
   "cell_type": "code",
   "execution_count": 21,
   "metadata": {},
   "outputs": [
    {
     "name": "stdout",
     "output_type": "stream",
     "text": [
      "[0 0 0 ... 3 0 0]\n"
     ]
    }
   ],
   "source": [
    "# print(MI0 > 0.05)\n",
    "\n",
    "kmeans = sk.KMeans(n_clusters=4).fit(X)\n",
    "labels = kmeans.labels_\n",
    "print(labels)\n"
   ]
  },
  {
   "cell_type": "code",
   "execution_count": null,
   "metadata": {},
   "outputs": [],
   "source": [
    "\n",
    "\n",
    "for i in range(len(labels)):\n",
    "    \n",
    "    "
   ]
  },
  {
   "cell_type": "code",
   "execution_count": null,
   "metadata": {},
   "outputs": [],
   "source": []
  }
 ],
 "metadata": {
  "kernelspec": {
   "display_name": "Python 3",
   "language": "python",
   "name": "python3"
  },
  "language_info": {
   "codemirror_mode": {
    "name": "ipython",
    "version": 3
   },
   "file_extension": ".py",
   "mimetype": "text/x-python",
   "name": "python",
   "nbconvert_exporter": "python",
   "pygments_lexer": "ipython3",
   "version": "3.6.7"
  }
 },
 "nbformat": 4,
 "nbformat_minor": 2
}
